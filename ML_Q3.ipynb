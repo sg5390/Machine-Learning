{
 "cells": [
  {
   "cell_type": "code",
   "execution_count": 15,
   "metadata": {
    "colab": {
     "base_uri": "https://localhost:8080/",
     "height": 136
    },
    "colab_type": "code",
    "id": "WLdXTZppniqE",
    "outputId": "fcfef85f-29cf-4de0-8108-ac8e142b2753"
   },
   "outputs": [
    {
     "name": "stdout",
     "output_type": "stream",
     "text": [
      "[[-1.1861958   0.29515644  0.28924756]\n",
      " [ 0.84965142 -1.42002868  0.11812764]\n",
      " [ 0.58792575 -0.821877   -1.67659601]\n",
      " ...\n",
      " [-0.98690903  1.28723052  1.35416092]\n",
      " [-0.59011098 -0.29342112  0.90536463]\n",
      " [-0.81835475  1.44952218 -1.42475587]]\n"
     ]
    }
   ],
   "source": [
    "import numpy as np\n",
    "from numpy import linalg as LA\n",
    "import matplotlib.pyplot as plt\n",
    "import statistics\n",
    "import numpy as np\n",
    "\n",
    "M = np.zeros(3)  \n",
    "CV = np.identity(3)\n",
    "X = np.random.multivariate_normal(M, CV, 10000)\n",
    "print(X)\n"
   ]
  },
  {
   "cell_type": "code",
   "execution_count": 16,
   "metadata": {
    "colab": {
     "base_uri": "https://localhost:8080/",
     "height": 333
    },
    "colab_type": "code",
    "id": "f95zir5MpwKI",
    "outputId": "28b2c1ab-381b-46ff-aca3-e9f9372987e2"
   },
   "outputs": [
    {
     "name": "stdout",
     "output_type": "stream",
     "text": [
      "[1.25612179 1.65901873 1.95757827 ... 2.11298454 1.11982679 2.191061  ]\n",
      "10000\n",
      "0.6744498993568597\n",
      "1.601350104742796\n"
     ]
    },
    {
     "data": {
      "image/png": "[encoded data removed]",
      "text/plain": [
       "<Figure size 432x288 with 1 Axes>"
      ]
     },
     "metadata": {
      "tags": []
     },
     "output_type": "display_data"
    }
   ],
   "source": [
    "EUC = LA.norm(X, axis = 1)\n",
    "Standard_Deviation = statistics.stdev(EUC)\n",
    "Mean = statistics.mean(EUC)\n",
    "print(EUC)\n",
    "print(len(EUC))\n",
    "print(Standard_Deviation)\n",
    "print(Mean)\n",
    "\n",
    "n, bins, patches = plt.hist(x= EUC, bins='auto', color='#0504aa',alpha=0.7, rwidth=0.85)\n",
    "plt.show()"
   ]
  },
  {
   "cell_type": "code",
   "execution_count": 24,
   "metadata": {
    "colab": {
     "base_uri": "https://localhost:8080/",
     "height": 282
    },
    "colab_type": "code",
    "id": "0hCDf-3YqiRI",
    "outputId": "361d0ffa-49be-4e82-bd08-779b95ea6cc7"
   },
   "outputs": [
    {
     "data": {
      "text/plain": [
       "[<matplotlib.lines.Line2D at 0x7fcfadcf9dd8>]"
      ]
     },
     "execution_count": 24,
     "metadata": {
      "tags": []
     },
     "output_type": "execute_result"
    },
    {
     "data": {
      "image/png": "[encoded data removed]",
      "text/plain": [
       "<Figure size 432x288 with 1 Axes>"
      ]
     },
     "metadata": {
      "tags": []
     },
     "output_type": "display_data"
    }
   ],
   "source": [
    "import numpy as np\n",
    "def sample_fn(a):\n",
    "    M = np.zeros(a)  \n",
    "    CV = np.identity(a)\n",
    "    X = np.random.multivariate_normal(M, CV, 10000)\n",
    "    EUC = LA.norm(X, axis = 1)\n",
    "    sd = statistics.stdev(EUC)\n",
    "    mean = statistics.mean(EUC)\n",
    "    return(sd,mean)\n",
    "\n",
    "A = [10, 20, 30, 50, 100, 200, 500, 1000]\n",
    "collective_mean = []\n",
    "collective_sd = []\n",
    "\n",
    "for a in A:\n",
    "    mean,std_dev = sample_fn(a)\n",
    "    collective_mean.append(mean)\n",
    "    collective_sd.append(std_dev)\n",
    "\n",
    "collective_mean\n",
    "collective_sd\n",
    "\n",
    "plt.plot(A,collective_mean)\n",
    "plt.plot(A,collective_sd)"
   ]
  },
  {
   "cell_type": "markdown",
   "metadata": {
    "colab_type": "text",
    "id": "uEgoyn2O7zCm"
   },
   "source": [
    "References:\n",
    "\n",
    "https://docs.scipy.org/doc/numpy-1.15.0/reference/generated/numpy.random.normal.html"
   ]
  },
  {
   "cell_type": "code",
   "execution_count": 0,
   "metadata": {
    "colab": {},
    "colab_type": "code",
    "id": "YwF6jly9y8kj"
   },
   "outputs": [],
   "source": []
  }
 ],
 "metadata": {
  "colab": {
   "collapsed_sections": [],
   "name": "ML_Q3.ipynb",
   "provenance": []
  },
  "kernelspec": {
   "display_name": "Python 3",
   "language": "python",
   "name": "python3"
  },
  "language_info": {
   "codemirror_mode": {
    "name": "ipython",
    "version": 3
   },
   "file_extension": ".py",
   "mimetype": "text/x-python",
   "name": "python",
   "nbconvert_exporter": "python",
   "pygments_lexer": "ipython3",
   "version": "3.7.4"
  }
 },
 "nbformat": 4,
 "nbformat_minor": 1
}
