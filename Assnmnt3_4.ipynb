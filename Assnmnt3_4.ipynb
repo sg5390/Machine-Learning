{
 "cells": [
  {
   "cell_type": "markdown",
   "metadata": {},
   "source": [
    "### Q4. a) Generate two clusters of data points with 100 points each (so that the total data size is n = 200), by sampling from Gaussian distributions centered at (0.5, 0.5) and (−0.5, −0.5)."
   ]
  },
  {
   "cell_type": "code",
   "execution_count": 20,
   "metadata": {},
   "outputs": [],
   "source": [
    "import numpy as np\n",
    "import matplotlib.pyplot as plt\n",
    "%matplotlib inline"
   ]
  },
  {
   "cell_type": "markdown",
   "metadata": {},
   "source": [
    "### For d=2"
   ]
  },
  {
   "cell_type": "code",
   "execution_count": 117,
   "metadata": {},
   "outputs": [],
   "source": [
    "gd1 = [0.5,0.5]                             #Centered at (0.5,0.5)\n",
    "gd2 = [-0.5,-0.5]                           #Centered at (-0.5,-0.5)\n",
    "cov = [[0.05,0],[0,0.05]]                  #Generating covariance"
   ]
  },
  {
   "cell_type": "markdown",
   "metadata": {},
   "source": [
    "##### yi = ±1 depending on the cluster they originated from\n",
    "##### However, labels y =1 and y = 0 work better in this scenario"
   ]
  },
  {
   "cell_type": "code",
   "execution_count": 119,
   "metadata": {},
   "outputs": [],
   "source": [
    "cluster1 = np.random.multivariate_normal(gd1, cov, 100)  #Generating  100 random points  \n",
    "a = np.insert(cluster1, 2, 1, axis=1)                  #y=1\n",
    "\n",
    "cluster2 = np.random.multivariate_normal(gd2, cov, 100)  #Generating 100 random points whose mean lies at (-0.5,-0.5)\n",
    "b = np.insert(cluster2, 2, 0, axis=1)                    #y=-1\n"
   ]
  },
  {
   "cell_type": "code",
   "execution_count": 122,
   "metadata": {},
   "outputs": [
    {
     "data": {
      "text/plain": [
       "<matplotlib.collections.PathCollection at 0x11a464410>"
      ]
     },
     "execution_count": 122,
     "metadata": {},
     "output_type": "execute_result"
    },
    {
     "data": {
      "image/png": "[encoded data removed]",
      "text/plain": [
       "<Figure size 432x288 with 1 Axes>"
      ]
     },
     "metadata": {
      "needs_background": "light"
     },
     "output_type": "display_data"
    }
   ],
   "source": [
    "plt.scatter(cluster1[:,0],cluster1[:,1], color='black')\n",
    "plt.scatter(cluster2[:,0],cluster2[:,1],color='darkorange')"
   ]
  },
  {
   "cell_type": "code",
   "execution_count": 123,
   "metadata": {},
   "outputs": [],
   "source": [
    "dataset = np.concatenate((a,b))"
   ]
  },
  {
   "cell_type": "code",
   "execution_count": 124,
   "metadata": {},
   "outputs": [
    {
     "data": {
      "text/plain": [
       "array([[ 0.27979915,  0.5738538 ,  1.        ],\n",
       "       [ 0.75242816,  0.67175178,  1.        ],\n",
       "       [ 0.59895864,  0.23575459,  1.        ],\n",
       "       [ 0.50244111,  0.47802528,  1.        ],\n",
       "       [ 0.66232331,  0.43969656,  1.        ],\n",
       "       [ 0.51715205,  0.38894151,  1.        ],\n",
       "       [ 0.68796347,  0.15232462,  1.        ],\n",
       "       [ 0.31612854,  0.47350306,  1.        ],\n",
       "       [ 0.71112559,  0.55952551,  1.        ],\n",
       "       [ 0.32902664,  0.53104918,  1.        ],\n",
       "       [ 0.483401  ,  1.13455905,  1.        ],\n",
       "       [ 0.78299843,  0.67285508,  1.        ],\n",
       "       [ 0.66579233,  0.51900313,  1.        ],\n",
       "       [ 0.37237581,  0.42613454,  1.        ],\n",
       "       [ 0.3107752 ,  0.76857237,  1.        ],\n",
       "       [ 0.69145516,  0.54769661,  1.        ],\n",
       "       [-0.04623175,  0.11530064,  1.        ],\n",
       "       [ 0.55437357,  0.56771756,  1.        ],\n",
       "       [ 0.50915506,  0.41440314,  1.        ],\n",
       "       [ 1.08255494,  0.58111704,  1.        ],\n",
       "       [ 0.56325864,  0.49589437,  1.        ],\n",
       "       [ 0.74422735,  0.53899634,  1.        ],\n",
       "       [ 0.43760115,  0.5395024 ,  1.        ],\n",
       "       [ 0.10280398,  0.57099572,  1.        ],\n",
       "       [ 0.52180188,  0.71149194,  1.        ],\n",
       "       [ 0.40397603,  0.19802822,  1.        ],\n",
       "       [ 0.57149265,  0.7575487 ,  1.        ],\n",
       "       [ 0.15295221,  0.37508763,  1.        ],\n",
       "       [ 0.49251907,  0.44759837,  1.        ],\n",
       "       [ 0.73190904,  0.66837901,  1.        ],\n",
       "       [ 0.36518956,  0.7842578 ,  1.        ],\n",
       "       [ 0.36931081,  0.22583476,  1.        ],\n",
       "       [ 0.67985185,  0.66609499,  1.        ],\n",
       "       [ 0.74742944,  0.59712263,  1.        ],\n",
       "       [ 0.74110036,  0.45272598,  1.        ],\n",
       "       [ 0.37076514,  0.67016142,  1.        ],\n",
       "       [ 0.57524224,  0.30234618,  1.        ],\n",
       "       [ 0.55937168,  0.42286824,  1.        ],\n",
       "       [ 0.33085334, -0.01329009,  1.        ],\n",
       "       [ 0.56790156,  0.39738758,  1.        ],\n",
       "       [ 0.60594376,  0.49730871,  1.        ],\n",
       "       [ 0.54007104, -0.04700425,  1.        ],\n",
       "       [ 0.59600565,  0.26523912,  1.        ],\n",
       "       [ 0.41680065,  0.32348002,  1.        ],\n",
       "       [ 0.24247146,  0.35005962,  1.        ],\n",
       "       [ 0.39203607,  0.3295561 ,  1.        ],\n",
       "       [ 0.76846185,  0.53829833,  1.        ],\n",
       "       [ 0.60033588,  0.31551334,  1.        ],\n",
       "       [ 0.83734595,  0.76936278,  1.        ],\n",
       "       [ 0.31046493,  0.59157373,  1.        ],\n",
       "       [ 0.89577712,  0.46118332,  1.        ],\n",
       "       [ 0.58966142,  0.57454583,  1.        ],\n",
       "       [ 0.38489052,  0.19092725,  1.        ],\n",
       "       [ 0.47790641,  0.55603146,  1.        ],\n",
       "       [ 0.5411174 ,  0.17891366,  1.        ],\n",
       "       [ 0.13607038,  0.50350341,  1.        ],\n",
       "       [ 0.46747483,  0.68315698,  1.        ],\n",
       "       [ 0.73480803,  1.0029308 ,  1.        ],\n",
       "       [ 0.27793937,  0.71653564,  1.        ],\n",
       "       [ 0.30276905,  0.42150775,  1.        ],\n",
       "       [ 0.03356717,  0.34008401,  1.        ],\n",
       "       [ 0.15270051,  0.50011988,  1.        ],\n",
       "       [ 0.89138203,  0.43594243,  1.        ],\n",
       "       [-0.09887708,  0.49340077,  1.        ],\n",
       "       [ 0.47792695,  0.64785269,  1.        ],\n",
       "       [ 0.16479974,  0.41204705,  1.        ],\n",
       "       [ 0.33828095,  0.65876371,  1.        ],\n",
       "       [ 0.79056751,  0.41045806,  1.        ],\n",
       "       [ 0.42651084,  0.45417257,  1.        ],\n",
       "       [ 0.58329706,  0.6222999 ,  1.        ],\n",
       "       [ 0.76337034,  0.52518797,  1.        ],\n",
       "       [ 0.46409413,  0.64523875,  1.        ],\n",
       "       [ 0.60975908,  0.7130829 ,  1.        ],\n",
       "       [ 0.34921684,  0.43684721,  1.        ],\n",
       "       [ 0.13019994,  0.52221319,  1.        ],\n",
       "       [ 0.28853017,  0.67711559,  1.        ],\n",
       "       [ 0.48297342,  0.55086481,  1.        ],\n",
       "       [ 0.55159438,  0.13632146,  1.        ],\n",
       "       [ 0.32786475,  0.75336524,  1.        ],\n",
       "       [ 0.42715331,  0.06315066,  1.        ],\n",
       "       [ 0.51984168,  0.81374301,  1.        ],\n",
       "       [ 0.48893632,  0.69416002,  1.        ],\n",
       "       [-0.13205062,  0.55006778,  1.        ],\n",
       "       [ 0.75177819,  0.56700786,  1.        ],\n",
       "       [ 0.55271062,  0.66202344,  1.        ],\n",
       "       [ 0.55251246,  0.56707442,  1.        ],\n",
       "       [ 0.53947248,  0.49378503,  1.        ],\n",
       "       [ 0.37718919,  0.50248145,  1.        ],\n",
       "       [ 0.48574001,  1.00686357,  1.        ],\n",
       "       [ 0.68987725,  0.3647387 ,  1.        ],\n",
       "       [ 0.31961823,  0.40901738,  1.        ],\n",
       "       [ 0.79125485,  0.50086715,  1.        ],\n",
       "       [ 0.22493082,  0.39689152,  1.        ],\n",
       "       [ 0.70914958,  0.40129432,  1.        ],\n",
       "       [ 0.22433172,  0.21746143,  1.        ],\n",
       "       [ 0.23217513,  0.52352654,  1.        ],\n",
       "       [ 0.81892721,  0.25150702,  1.        ],\n",
       "       [ 0.30418766,  0.64286852,  1.        ],\n",
       "       [ 0.920825  ,  0.37156412,  1.        ],\n",
       "       [ 0.42003167, -0.0563754 ,  1.        ],\n",
       "       [-0.53077486, -0.65617748,  0.        ],\n",
       "       [-0.35503293, -0.06271814,  0.        ],\n",
       "       [-0.28659249, -0.01835496,  0.        ],\n",
       "       [-0.54769766, -0.37556226,  0.        ],\n",
       "       [-1.2133693 , -0.85488182,  0.        ],\n",
       "       [-0.51884503, -0.22244208,  0.        ],\n",
       "       [-0.61704273, -0.13106546,  0.        ],\n",
       "       [-0.16278837, -0.3181333 ,  0.        ],\n",
       "       [-0.24290306, -0.39902659,  0.        ],\n",
       "       [-0.61414115, -0.42701065,  0.        ],\n",
       "       [-0.37245407, -0.57582641,  0.        ],\n",
       "       [-0.30879085, -0.75829486,  0.        ],\n",
       "       [-0.76565414, -0.81963345,  0.        ],\n",
       "       [-0.54312489, -0.5642157 ,  0.        ],\n",
       "       [-0.5201285 , -0.83954617,  0.        ],\n",
       "       [-0.56496861, -0.79217896,  0.        ],\n",
       "       [-0.5208177 , -0.41284934,  0.        ],\n",
       "       [-0.84563138, -0.42919428,  0.        ],\n",
       "       [-0.63240235, -0.81012243,  0.        ],\n",
       "       [-0.5179222 , -0.31570624,  0.        ],\n",
       "       [-0.82168119, -0.44624175,  0.        ],\n",
       "       [-0.64777281, -0.81573143,  0.        ],\n",
       "       [-0.25871811, -0.35482832,  0.        ],\n",
       "       [-0.40062656, -0.67460646,  0.        ],\n",
       "       [-0.76172401, -0.50251467,  0.        ],\n",
       "       [-0.29556733, -0.26843952,  0.        ],\n",
       "       [-0.76947972, -0.33244688,  0.        ],\n",
       "       [-0.71927892, -0.21151756,  0.        ],\n",
       "       [-0.33972414, -0.86548712,  0.        ],\n",
       "       [-0.24320757, -0.015049  ,  0.        ],\n",
       "       [-0.60317746, -0.48157168,  0.        ],\n",
       "       [-0.41908429, -0.32409869,  0.        ],\n",
       "       [-0.37011563, -0.10775362,  0.        ],\n",
       "       [-0.49831857, -0.40483076,  0.        ],\n",
       "       [-0.55700406, -0.33301774,  0.        ],\n",
       "       [-0.43573458, -0.39474607,  0.        ],\n",
       "       [-0.48525609, -0.28060756,  0.        ],\n",
       "       [-0.85407568, -0.31799543,  0.        ],\n",
       "       [-0.34473414, -0.55050076,  0.        ],\n",
       "       [-0.82988406, -0.73558664,  0.        ],\n",
       "       [-0.55051851, -0.25897896,  0.        ],\n",
       "       [-0.68451272, -0.21176146,  0.        ],\n",
       "       [-0.42030157, -0.57046021,  0.        ],\n",
       "       [-0.46294894, -0.62330021,  0.        ],\n",
       "       [-0.53380456, -0.28049222,  0.        ],\n",
       "       [-0.40228122, -0.59224292,  0.        ],\n",
       "       [-0.21598402, -0.43023109,  0.        ],\n",
       "       [-0.35504837, -0.49418199,  0.        ],\n",
       "       [-0.66503978, -0.48647879,  0.        ],\n",
       "       [-0.39223161, -0.43033262,  0.        ],\n",
       "       [-0.09878221, -0.77130286,  0.        ],\n",
       "       [-0.42419426, -0.09540131,  0.        ],\n",
       "       [-0.69643059, -0.88853641,  0.        ],\n",
       "       [-0.32248233, -0.56252932,  0.        ],\n",
       "       [-0.45405727, -0.6854206 ,  0.        ],\n",
       "       [-0.18321715, -0.39187177,  0.        ],\n",
       "       [-0.81877638, -0.83655425,  0.        ],\n",
       "       [-0.98679818, -0.72876568,  0.        ],\n",
       "       [-0.34702735, -0.15105281,  0.        ],\n",
       "       [-0.57925157, -0.487059  ,  0.        ],\n",
       "       [-0.63935265, -0.63165555,  0.        ],\n",
       "       [-0.24919042, -0.44131993,  0.        ],\n",
       "       [-0.52654139, -0.57314058,  0.        ],\n",
       "       [-0.78760224, -0.39985942,  0.        ],\n",
       "       [-0.08176765, -0.64603675,  0.        ],\n",
       "       [-0.59043765, -0.3253328 ,  0.        ],\n",
       "       [-0.66855309, -0.74785423,  0.        ],\n",
       "       [-0.41862721, -0.48680323,  0.        ],\n",
       "       [-0.33125755, -0.58133159,  0.        ],\n",
       "       [-0.57500722,  0.00681566,  0.        ],\n",
       "       [-0.37297942, -0.46327542,  0.        ],\n",
       "       [-0.33758519, -0.30924103,  0.        ],\n",
       "       [-0.5032998 , -0.39508399,  0.        ],\n",
       "       [-0.85886334, -0.61252128,  0.        ],\n",
       "       [-0.23108485, -0.72895442,  0.        ],\n",
       "       [-0.61955065, -0.68769388,  0.        ],\n",
       "       [-0.88081642, -0.69538157,  0.        ],\n",
       "       [-0.7010588 , -0.89559316,  0.        ],\n",
       "       [-0.15011292, -0.79301611,  0.        ],\n",
       "       [-0.1208293 , -0.29417034,  0.        ],\n",
       "       [-0.73001054, -0.56082797,  0.        ],\n",
       "       [-0.62882119, -0.57003481,  0.        ],\n",
       "       [-0.94468633, -0.57109624,  0.        ],\n",
       "       [-0.48977421, -0.31160185,  0.        ],\n",
       "       [-0.64162017, -0.28008247,  0.        ],\n",
       "       [ 0.03346998, -0.18275382,  0.        ],\n",
       "       [-0.72463317, -0.50057038,  0.        ],\n",
       "       [-0.56620528, -0.38128964,  0.        ],\n",
       "       [-0.56884731, -0.8100207 ,  0.        ],\n",
       "       [-0.37757475, -0.30892476,  0.        ],\n",
       "       [-0.41096172,  0.01593949,  0.        ],\n",
       "       [-0.53100303, -0.67549567,  0.        ],\n",
       "       [-0.38879372, -0.96612573,  0.        ],\n",
       "       [-0.33611136, -0.45688423,  0.        ],\n",
       "       [-0.74720582, -0.38237641,  0.        ],\n",
       "       [-0.46133938, -0.27354069,  0.        ],\n",
       "       [-0.3441333 , -0.47353777,  0.        ],\n",
       "       [-0.41799761, -0.39535815,  0.        ],\n",
       "       [-0.68253916, -0.22809886,  0.        ],\n",
       "       [-0.52291236, -0.7394691 ,  0.        ]])"
      ]
     },
     "execution_count": 124,
     "metadata": {},
     "output_type": "execute_result"
    }
   ],
   "source": [
    "dataset"
   ]
  },
  {
   "cell_type": "markdown",
   "metadata": {},
   "source": [
    "### b) (Derive your own GD routines; do not use sklearn functions here.) Train a logistic regression model that tries to minimize loss function L(w) using Gradient Descent (GD). Plot the decay of the training loss function as a function of number of iterations."
   ]
  },
  {
   "cell_type": "markdown",
   "metadata": {},
   "source": [
    "Splitting the data in an 80-20 split as training and testing data"
   ]
  },
  {
   "cell_type": "code",
   "execution_count": 140,
   "metadata": {},
   "outputs": [
    {
     "data": {
      "text/plain": [
       "(200, 3)"
      ]
     },
     "execution_count": 140,
     "metadata": {},
     "output_type": "execute_result"
    }
   ],
   "source": [
    "X = dataset[:,:-1]\n",
    "y = dataset[:,-1]\n",
    "\n",
    "X = np.c_[np.ones((X.shape[0], 1)), X]\n",
    "y = y[:,np.newaxis] \n",
    "\n",
    "w = np.zeros((X.shape[1],1))\n",
    "X.shape"
   ]
  },
  {
   "cell_type": "markdown",
   "metadata": {},
   "source": [
    "#### Defining Sigmoid function h(z)"
   ]
  },
  {
   "cell_type": "code",
   "execution_count": 128,
   "metadata": {},
   "outputs": [],
   "source": [
    "def sigmoid(z):\n",
    "    return 1 / (1 + np.exp(-z))"
   ]
  },
  {
   "cell_type": "code",
   "execution_count": 129,
   "metadata": {},
   "outputs": [],
   "source": [
    "def compute_z(w, x):                  \n",
    "    return np.dot(x,w)"
   ]
  },
  {
   "cell_type": "code",
   "execution_count": 130,
   "metadata": {},
   "outputs": [],
   "source": [
    "def hz(w, x):\n",
    "    return sigmoid(compute_z(w, x))"
   ]
  },
  {
   "cell_type": "markdown",
   "metadata": {},
   "source": [
    "$ 𝐿(𝑤)=\\frac{1}{𝑛}(−𝑦𝑙𝑜𝑔(ℎ𝑧)−(1−𝑦)𝑙𝑜𝑔(1−ℎ𝑧) $"
   ]
  },
  {
   "cell_type": "code",
   "execution_count": 131,
   "metadata": {},
   "outputs": [],
   "source": [
    "def cost_function(w, x, y):             #L(w) for Logistic Regression\n",
    "    n = x.shape[0]\n",
    "    total_cost = -(1 / n) * np.sum(y * np.log(hz(w, x)) + (1 - y) * np.log(1 - hz(w, x)))\n",
    "    return total_cost"
   ]
  },
  {
   "cell_type": "code",
   "execution_count": 132,
   "metadata": {},
   "outputs": [],
   "source": [
    "def gradient(w, x, y):                  #Compute gradient\n",
    "    n = x.shape[0]\n",
    "    return (1 / n) * np.dot(x.T, sigmoid(compute_z(w,   x)) - y)"
   ]
  },
  {
   "cell_type": "code",
   "execution_count": 275,
   "metadata": {},
   "outputs": [],
   "source": [
    "def gradient_descent(X, y, w, T, alpha):    #Update the weights or w's according to the slope at current point\n",
    "    cost = np.zeros(T)\n",
    "    for i in range(T):\n",
    "        \n",
    "        grad = gradient(w,X,y)\n",
    "        w = w - alpha*grad                 #update values of weights\n",
    "        cost[i] = cost_function(w,X,y)\n",
    "    return w,cost"
   ]
  },
  {
   "cell_type": "markdown",
   "metadata": {},
   "source": [
    "#### Gradient Descent"
   ]
  },
  {
   "cell_type": "code",
   "execution_count": 255,
   "metadata": {},
   "outputs": [],
   "source": [
    "alpha = 0.99\n",
    "T = 500"
   ]
  },
  {
   "cell_type": "code",
   "execution_count": 277,
   "metadata": {},
   "outputs": [],
   "source": [
    "optimum_w_gd,cost = gradient_descent(X,y,w,T,alpha)\n",
    "final_cost = cost_function(optimum_w_gd,X,y)"
   ]
  },
  {
   "cell_type": "code",
   "execution_count": 278,
   "metadata": {},
   "outputs": [
    {
     "data": {
      "text/plain": [
       "0.015647471739687467"
      ]
     },
     "execution_count": 278,
     "metadata": {},
     "output_type": "execute_result"
    }
   ],
   "source": [
    "final_cost"
   ]
  },
  {
   "cell_type": "code",
   "execution_count": 279,
   "metadata": {},
   "outputs": [
    {
     "data": {
      "text/plain": [
       "array([[0.02885511],\n",
       "       [6.23947606],\n",
       "       [6.07747237]])"
      ]
     },
     "execution_count": 279,
     "metadata": {},
     "output_type": "execute_result"
    }
   ],
   "source": [
    "#final values of w\n",
    "optimum_w_gd"
   ]
  },
  {
   "cell_type": "code",
   "execution_count": 281,
   "metadata": {},
   "outputs": [
    {
     "data": {
      "text/plain": [
       "Text(0.5, 1.0, 'Gradient Descent: Error vs. Training Epoch')"
      ]
     },
     "execution_count": 281,
     "metadata": {},
     "output_type": "execute_result"
    },
    {
     "data": {
      "image/png": "[encoded data removed]",
      "text/plain": [
       "<Figure size 432x288 with 1 Axes>"
      ]
     },
     "metadata": {
      "needs_background": "light"
     },
     "output_type": "display_data"
    }
   ],
   "source": [
    "\n",
    "plt.plot(np.arange(T), cost, 'purple')  \n",
    "plt.xlabel('Iterations')  \n",
    "plt.ylabel('Cost')  \n",
    "plt.title('Gradient Descent: Error vs. Training Epoch') "
   ]
  },
  {
   "cell_type": "markdown",
   "metadata": {},
   "source": [
    "Gradient Descent plot should show faster rate of convergence than SGD. Let us see."
   ]
  },
  {
   "cell_type": "markdown",
   "metadata": {},
   "source": [
    "#### Regression Line"
   ]
  },
  {
   "cell_type": "code",
   "execution_count": 287,
   "metadata": {},
   "outputs": [
    {
     "data": {
      "image/png": "[encoded data removed]",
      "text/plain": [
       "<Figure size 432x288 with 1 Axes>"
      ]
     },
     "metadata": {
      "needs_background": "light"
     },
     "output_type": "display_data"
    }
   ],
   "source": [
    "plt.scatter(cluster1[:,0],cluster1[:,1],color='black')         #regression line\n",
    "plt.scatter(cluster2[:,0],cluster2[:,1],color='darkorange')\n",
    "\n",
    "xplot_gd = np.arange(-1, 1, 0.2)\n",
    "\n",
    "yplot_gd = -(optimum_w_gd[0] + optimum_w_gd[1] * xplot_gd)/optimum_w_gd[2]\n",
    "plt.plot(xplot_gd,yplot_gd,label='Regression Line: GD')\n",
    "plt.title('Logistic Regession using Gradient Descent',c='k')\n",
    "plt.legend()\n",
    "plt.show()"
   ]
  },
  {
   "cell_type": "markdown",
   "metadata": {},
   "source": [
    "### c) Train the same logistic regression model, but this time using Stochastic Gradient Descent(SGD). Demonstrate that SGD exhibits a slower rate of convergence than GD, but is faster per-iteration, and does not suffer in terms of final quality. You may have to play around a bit with the step-size parameters as well as mini-batch sizes to get reasonable answers."
   ]
  },
  {
   "cell_type": "markdown",
   "metadata": {},
   "source": [
    "##### Training the same logistic regression algorithm with SGD to show that SGD has a slower rate of convergence but converges faster per iteration. Randomize the dataset for SGD to converge a little faster"
   ]
  },
  {
   "cell_type": "code",
   "execution_count": 288,
   "metadata": {},
   "outputs": [],
   "source": [
    "def next_batch(X, y, batch_size):                          #Running SGD\n",
    "    for i in np.arange(0, X.shape[0], batch_size):\n",
    "        yield (X[i:i + batch_size], y[i:i + batch_size])"
   ]
  },
  {
   "cell_type": "code",
   "execution_count": 289,
   "metadata": {},
   "outputs": [],
   "source": [
    "def SGD(X, y, w, T, alpha, batch_size):           #Updating the weights \n",
    "    cost = []\n",
    "    for i in range(T):\n",
    "        #calculate the gradient at current point\n",
    "        for (batch_X,batch_Y) in next_batch(X, y, batch_size):\n",
    "            loss = []\n",
    "            grad = gradient(w,batch_X,batch_Y)\n",
    "            \n",
    "            w = w - alpha*grad\n",
    "            l = cost_function(w,X,y)\n",
    "            \n",
    "            loss.append(l)\n",
    "        \n",
    "        cost.append(np.average(loss))\n",
    "    return w,cost"
   ]
  },
  {
   "cell_type": "markdown",
   "metadata": {},
   "source": [
    "### Stochiastic Gradient Descent"
   ]
  },
  {
   "cell_type": "code",
   "execution_count": 292,
   "metadata": {},
   "outputs": [],
   "source": [
    "alpha_sgd = 0.99        #learning rate\n",
    "T_sgd = 500             #Number of epochs/iterations\n",
    "batch_size = 1000       #Batch size\n",
    "w = np.zeros((X.shape[1],1))\n",
    "\n",
    "optimum_w_sgd,cost_sgd = SGD(X,y,w,T_sgd,alpha_sgd,batch_size)\n",
    "\n",
    "final_cost_sgd = cost_function(optimum_w_sgd,X,y)"
   ]
  },
  {
   "cell_type": "code",
   "execution_count": 293,
   "metadata": {},
   "outputs": [
    {
     "data": {
      "text/plain": [
       "Text(0.5, 1.0, 'Stochastic Gradient Descent: Error vs. Training Epoch')"
      ]
     },
     "execution_count": 293,
     "metadata": {},
     "output_type": "execute_result"
    },
    {
     "data": {
      "image/png": "[encoded data removed]",
      "text/plain": [
       "<Figure size 432x288 with 1 Axes>"
      ]
     },
     "metadata": {
      "needs_background": "light"
     },
     "output_type": "display_data"
    }
   ],
   "source": [
    "fig, ax = plt.subplots()  \n",
    "ax.plot(np.arange(T_sgd), cost_sgd, 'darkorange')  \n",
    "ax.set_xlabel('Iterations')  \n",
    "ax.set_ylabel('Cost')  \n",
    "ax.set_title('Stochastic Gradient Descent: Error vs. Training Epoch') "
   ]
  },
  {
   "cell_type": "markdown",
   "metadata": {},
   "source": [
    "Although not a huge difference, we can see SGD going a little slow"
   ]
  },
  {
   "cell_type": "markdown",
   "metadata": {},
   "source": [
    "### d) Overlay the original plot of data points on the 2D data plane with the two (final) models that you obtained above in parts b and c to visualize correctness of your implementation."
   ]
  },
  {
   "cell_type": "code",
   "execution_count": 270,
   "metadata": {},
   "outputs": [
    {
     "data": {
      "image/png": "[encoded data removed]",
      "text/plain": [
       "<Figure size 432x288 with 1 Axes>"
      ]
     },
     "metadata": {
      "needs_background": "light"
     },
     "output_type": "display_data"
    },
    {
     "name": "stdout",
     "output_type": "stream",
     "text": [
      "[0]\n",
      "[[0.02885511]\n",
      " [6.23947606]\n",
      " [6.07747237]]\n"
     ]
    }
   ],
   "source": [
    "#plotting decision boundary\n",
    "plt.scatter(cluster1[:,0],cluster1[:,1], color='black')\n",
    "plt.scatter(cluster2[:,0],cluster2[:,1],color='darkorange')\n",
    "\n",
    "\n",
    "x_vals_gd = np.arange(-1, 1, 0.2)\n",
    "\n",
    "#For Gradient Descent\n",
    "y_vals_gd = -(w_star_gd[0] + w_star_gd[1] * x_vals_gd)/w_star_gd[2]\n",
    "plt.plot(x_vals_gd,y_vals_gd,label='Regression Line GD')\n",
    "plt.title('Logistic Regession using Gradient Descent',c='k')\n",
    "\n",
    "#For Stochastic Gradient Descent\n",
    "y_vals_sgd = -(w_star_sgd[0] + w_star_sgd[1] * x_vals_gd)/w_star_sgd[2]\n",
    "plt.plot(x_vals_gd, y_vals_sgd, label='Regression Line SGD')\n",
    "plt.title('Logistic Regession using Gradient Descent',c='k')\n",
    "\n",
    "plt.legend()\n",
    "plt.show()\n",
    "\n",
    "print(w_star)\n",
    "\n",
    "print(w_star_sgd)"
   ]
  },
  {
   "cell_type": "markdown",
   "metadata": {},
   "source": []
  },
  {
   "cell_type": "code",
   "execution_count": null,
   "metadata": {},
   "outputs": [],
   "source": []
  },
  {
   "cell_type": "code",
   "execution_count": null,
   "metadata": {},
   "outputs": [],
   "source": []
  }
 ],
 "metadata": {
  "kernelspec": {
   "display_name": "Python 3",
   "language": "python",
   "name": "python3"
  },
  "language_info": {
   "codemirror_mode": {
    "name": "ipython",
    "version": 3
   },
   "file_extension": ".py",
   "mimetype": "text/x-python",
   "name": "python",
   "nbconvert_exporter": "python",
   "pygments_lexer": "ipython3",
   "version": "3.7.4"
  }
 },
 "nbformat": 4,
 "nbformat_minor": 2
}
