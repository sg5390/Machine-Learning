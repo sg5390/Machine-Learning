{
 "cells": [
  {
   "cell_type": "code",
   "execution_count": 40,
   "metadata": {},
   "outputs": [
    {
     "name": "stdout",
     "output_type": "stream",
     "text": [
      "(442, 10)\n",
      "(412, 10)\n",
      "(412,)\n"
     ]
    }
   ],
   "source": [
    "from sklearn import datasets\n",
    "\n",
    "X,y = datasets.load_diabetes(return_X_y = True)\n",
    "\n",
    "# X_train = diabetes.data\n",
    "# y_train = diabetes.target\n",
    "print(X.shape)\n",
    "X_train = X[:-30]\n",
    "X_test = X[-30:]\n",
    "\n",
    "Y_train = y[:-30]\n",
    "Y_test = y[-30:]\n",
    "\n",
    "print(X_train.shape)\n",
    "print(Y_train.shape)"
   ]
  },
  {
   "cell_type": "code",
   "execution_count": 41,
   "metadata": {},
   "outputs": [],
   "source": [
    "import numpy as np\n",
    "def hypothesis(w, X, n):\n",
    "    h = np.ones((X.shape[0],1))\n",
    "    w = w.reshape(1,n+1)\n",
    "    for i in range(0,X.shape[0]):\n",
    "        h[i] = float(np.matmul(w, X[i]))\n",
    "    h = h.reshape(X.shape[0])\n",
    "    return h"
   ]
  },
  {
   "cell_type": "code",
   "execution_count": 42,
   "metadata": {},
   "outputs": [],
   "source": [
    "def BGD(w, a, num_iters, h, X, y, n):\n",
    "    cost = np.ones(num_iters)\n",
    "    for i in range(0,num_iters):\n",
    "        w[0] = w[0] - (a/X.shape[0]) * sum(h - y)\n",
    "        for j in range(1,n+1):\n",
    "            w[j] = w[j] - (a/X.shape[0]) * sum((h-y) * X.transpose()[j])\n",
    "        h = hypothesis(w, X, n)\n",
    "        cost[i] = (1/X.shape[0]) * 0.5 * sum(np.square(h - y))\n",
    "    w = w.reshape(1,n+1)\n",
    "    return w, cost\n"
   ]
  },
  {
   "cell_type": "code",
   "execution_count": 43,
   "metadata": {},
   "outputs": [],
   "source": [
    "def linear_regression(X, y, a, num_iters):\n",
    "    n = X.shape[1]\n",
    "    one_column = np.ones((X.shape[0],1))\n",
    "    X = np.concatenate((one_column, X), axis = 1)\n",
    "    # initializing the parameter vector...\n",
    "    w = np.zeros(n+1)\n",
    "    # hypothesis calculation....\n",
    "    h = hypothesis(w, X, n)\n",
    "    # returning the optimized parameters by Gradient Descent...\n",
    "    w, cost = BGD(w,a,num_iters,h,X,y,n)\n",
    "    return w, cost"
   ]
  },
  {
   "cell_type": "code",
   "execution_count": 44,
   "metadata": {},
   "outputs": [
    {
     "ename": "SyntaxError",
     "evalue": "EOF while scanning triple-quoted string literal (<ipython-input-44-db46426b3416>, line 12)",
     "output_type": "error",
     "traceback": [
      "\u001b[0;36m  File \u001b[0;32m\"<ipython-input-44-db46426b3416>\"\u001b[0;36m, line \u001b[0;32m12\u001b[0m\n\u001b[0;31m    print(std)\u001b[0m\n\u001b[0m              \n^\u001b[0m\n\u001b[0;31mSyntaxError\u001b[0m\u001b[0;31m:\u001b[0m EOF while scanning triple-quoted string literal\n"
     ]
    }
   ],
   "source": [
    "'''\n",
    "mean = np.ones(X_train.shape[1])\n",
    "std = np.ones(X_train.shape[1])\n",
    "for i in range(0, X_train.shape[1]):\n",
    "    mean[i] = np.mean(X_train.transpose()[i])\n",
    "    std[i] = np.std(X_train.transpose()[i])\n",
    "    for j in range(0, X_train.shape[0]):\n",
    "        X_train[j][i] = (X_train[j][i] - mean[i])/std[i]\n",
    "        \n",
    "        \n",
    "print(mean[i])\n",
    "print(std)"
   ]
  },
  {
   "cell_type": "code",
   "execution_count": 45,
   "metadata": {},
   "outputs": [],
   "source": [
    "w, cost = linear_regression(X_train, Y_train,0.05 , 30000)"
   ]
  },
  {
   "cell_type": "code",
   "execution_count": 46,
   "metadata": {},
   "outputs": [
    {
     "name": "stdout",
     "output_type": "stream",
     "text": [
      "[[ 153.07137035    5.81753204 -224.25578727  512.42940252  301.21351769\n",
      "   -57.25029646 -111.53755248 -212.21610001  125.53457845  423.77268301\n",
      "   107.25622562]]\n"
     ]
    }
   ],
   "source": [
    "print(w)"
   ]
  },
  {
   "cell_type": "code",
   "execution_count": 47,
   "metadata": {},
   "outputs": [
    {
     "name": "stdout",
     "output_type": "stream",
     "text": [
      "(30, 11)\n",
      "(1, 11)\n",
      "(1, 30)\n",
      "(30,)\n"
     ]
    }
   ],
   "source": [
    "n = X_test.shape[1]\n",
    "one_column = np.ones((X_test.shape[0],1))\n",
    "X = np.concatenate((one_column, X_test), axis = 1)\n",
    "# w = np.zeros(n+1)\n",
    "print(X.shape)\n",
    "print(w.shape)\n",
    "y_pred = np.dot(w,X.T)\n",
    "print(y_pred.shape)\n",
    "print(Y_test.shape)"
   ]
  },
  {
   "cell_type": "code",
   "execution_count": 49,
   "metadata": {},
   "outputs": [
    {
     "name": "stdout",
     "output_type": "stream",
     "text": [
      "0.3007114955307265\n"
     ]
    }
   ],
   "source": [
    "from sklearn.metrics import r2_score\n",
    "print(r2_score(y_pred.T, Y_test))"
   ]
  },
  {
   "cell_type": "code",
   "execution_count": 52,
   "metadata": {},
   "outputs": [],
   "source": [
    "from sklearn import linear_model\n",
    "regr = linear_model.LinearRegression()\n",
    "model = regr.fit(X_train,Y_train)\n",
    "pred = regr.predict(X_test)"
   ]
  },
  {
   "cell_type": "code",
   "execution_count": 53,
   "metadata": {},
   "outputs": [
    {
     "name": "stdout",
     "output_type": "stream",
     "text": [
      "0.3503104171966196\n"
     ]
    }
   ],
   "source": [
    "from sklearn.metrics import r2_score\n",
    "print(r2_score(pred, Y_test))"
   ]
  },
  {
   "cell_type": "code",
   "execution_count": null,
   "metadata": {},
   "outputs": [],
   "source": [
    "r2 value without sklearn \n",
    "\n",
    "mse\n",
    "\n",
    "var y \n",
    "\n"
   ]
  }
 ],
 "metadata": {
  "kernelspec": {
   "display_name": "Python 3",
   "language": "python",
   "name": "python3"
  },
  "language_info": {
   "codemirror_mode": {
    "name": "ipython",
    "version": 3
   },
   "file_extension": ".py",
   "mimetype": "text/x-python",
   "name": "python",
   "nbconvert_exporter": "python",
   "pygments_lexer": "ipython3",
   "version": "3.7.4"
  }
 },
 "nbformat": 4,
 "nbformat_minor": 2
}
