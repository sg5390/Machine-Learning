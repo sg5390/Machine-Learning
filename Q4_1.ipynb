{
 "cells": [
  {
   "cell_type": "code",
   "execution_count": 1,
   "metadata": {
    "colab": {},
    "colab_type": "code",
    "id": "N2uMl-rh7f1R",
    "outputId": "bed9484e-16db-44fe-b7a7-e5b59d55cd4c"
   },
   "outputs": [
    {
     "name": "stderr",
     "output_type": "stream",
     "text": [
      "[nltk_data] Downloading package punkt to\n",
      "[nltk_data]     /Users/sunidhigupta/nltk_data...\n",
      "[nltk_data]   Package punkt is already up-to-date!\n"
     ]
    }
   ],
   "source": [
    "import pandas as pd\n",
    "from sklearn.feature_extraction.text import TfidfVectorizer\n",
    "import nltk\n",
    "nltk.download('punkt')\n",
    "from nltk.corpus import stopwords\n",
    "from sklearn.metrics.pairwise import cosine_similarity\n",
    "from scipy.sparse import csr_matrix"
   ]
  },
  {
   "cell_type": "markdown",
   "metadata": {
    "colab_type": "text",
    "id": "jbeRb8OC7f1Y"
   },
   "source": [
    "Loading and cleaning "
   ]
  },
  {
   "cell_type": "code",
   "execution_count": 2,
   "metadata": {
    "colab": {},
    "colab_type": "code",
    "id": "OA39Qn_w7f1a"
   },
   "outputs": [],
   "source": [
    "f1 = open(\"/Users/sunidhigupta/Documents/ML/Week1/hw1q5/d1.txt\",\"r\") \n",
    "a = f1.read().replace(\"\\n\",\" \").rstrip()\n",
    "f2 = open(\"/Users/sunidhigupta/Documents/ML/Week1/hw1q5/d2.txt\",\"r\")\n",
    "b = f2.read().replace(\"\\n\",\" \").rstrip()\n",
    "f3 = open(\"/Users/sunidhigupta/Documents/ML/Week1/hw1q5/d3.txt\",\"r\")\n",
    "c = f3.read().replace(\"\\n\",\" \").rstrip()\n",
    "f4 = open(\"/Users/sunidhigupta/Documents/ML/Week1/hw1q5/d4.txt\",\"r\")\n",
    "d = f4.read().replace(\"\\n\",\" \").rstrip()\n",
    "f5 = open(\"/Users/sunidhigupta/Documents/ML/Week1/hw1q5/d5.txt\",\"r\")\n",
    "e = f5.read().replace(\"\\n\",\" \").rstrip()\n",
    "f_q = open(\"/Users/sunidhigupta/Documents/ML/Week1/hw1q5/d_query.txt\",\"r\")\n",
    "f = f_q.read().replace(\"\\n\",\" \").rstrip()"
   ]
  },
  {
   "cell_type": "code",
   "execution_count": 3,
   "metadata": {
    "colab": {},
    "colab_type": "code",
    "id": "-pcdrOZg7f1e",
    "outputId": "4e251938-bd20-4aed-93d0-a258789046c8"
   },
   "outputs": [
    {
     "data": {
      "text/plain": [
       "\"Java is a town of approximately 1,500 people in Georgia in South Ossetia. According to Georgia's current official administrative division, Java is a main town of Java district in the north of Shida Kartli region. According to the South Ossetian side Dzau is an administrative center of Dzau district. The town is situated on the southern slopes of the Greater Caucasus, within the Greater Liakhvi Gorge, 1,040 m (3,412 ft) above sea level.  Java is the second largest urban settlement in South Ossetia, after Tskhinvali. It is located outside the Organization for Security and Co-operation in Europe-defined boundaries of the Georgian-Ossetian conflict zone – an area within a 15-km radius of Tskhinvali.  The town played a major role in the 2008 South Ossetia war, with most of the South Ossetian military forces being located there at the time of the Georgian offensive. During the Battle of Tskhinvali, the government of South Ossetia relocated to Java.  Georgia had accused the Russian military of building a large military base in Java before the war. These concerns were brought by the President of Georgia, Mikheil Saakashvili, to the attention of the UN General Assembly on September 26, 2007. After the war, Russia announced it was constructing military bases in Java and Tskhinvali, which would be ready in 2010.\""
      ]
     },
     "execution_count": 3,
     "metadata": {},
     "output_type": "execute_result"
    }
   ],
   "source": [
    "b"
   ]
  },
  {
   "cell_type": "code",
   "execution_count": 4,
   "metadata": {
    "colab": {},
    "colab_type": "code",
    "id": "IpVS5hfm7f1i"
   },
   "outputs": [],
   "source": [
    "bagOfWordsa = a.split(' ')\n",
    "bagOfWordsb = b.split(' ')\n",
    "bagOfWordsc = c.split(' ')\n",
    "bagOfWordsd = d.split(' ')\n",
    "bagOfWordse = e.split(' ')\n",
    "bagOfWordsf = f.split(' ')"
   ]
  },
  {
   "cell_type": "code",
   "execution_count": 5,
   "metadata": {
    "colab": {},
    "colab_type": "code",
    "id": "5xQ-GRRD7f1l",
    "outputId": "0a1a6c34-b2a6-4f9f-bf0c-943983e38bf1"
   },
   "outputs": [
    {
     "name": "stdout",
     "output_type": "stream",
     "text": [
      "['USS', 'Java', 'was', 'a', 'wooden-hulled,', 'sailing', 'frigate', 'in', 'the', 'United', 'States', 'Navy,', 'bearing', '44', 'guns.', 'She', 'was', 'named', 'for', 'the', 'American', 'victory', 'over', 'HMS', 'Java', 'off', 'the', 'coast', 'of', 'Brazil', 'on', '29', 'December', '1812,', 'captured', 'by', 'the', 'Constitution', 'under', 'the', 'command', 'of', 'Captain', 'William', 'Bainbridge.', 'HMS', 'Java', 'had', 'suffered', 'severe', 'damage', 'during', 'the', 'engagement', 'and', 'being', 'far', 'from', 'home', 'port', 'was', 'ordered', 'burned.', '', 'Java', 'was', 'built', 'at', 'Baltimore,', 'Maryland', 'in', '1814', 'and', '1815', 'by', 'Flannigan', 'and', 'Parsons.', 'Not', 'completed', 'until', 'after', 'the', 'end', 'of', 'the', 'War', 'of', '1812,', 'Java,', 'Captain', 'Oliver', 'Hazard', 'Perry', 'in', 'command,', 'got', 'underway', 'from', 'Baltimore', '5', 'August', '1815,', 'picked', 'up', 'spare', 'rigging', 'at', 'Hampton', 'Roads', 'and', 'New', 'York,', 'and', 'sailed', 'to', 'Newport,', 'Rhode', 'Island,', 'to', 'fill', 'out', 'her', 'crew.', 'Ordered', 'to', 'the', 'Mediterranean', 'to', 'serve', 'in', 'the', 'Second', 'Barbary', 'War,', 'the', 'new', 'frigate', 'departed', 'from', 'Newport', '22', 'January', '1816', 'in', 'the', 'face', 'of', 'a', 'bitter', 'gale.', 'At', 'sea', 'one', 'of', 'her', 'masts', 'snapped', 'with', 'ten', 'men', 'upon', 'the', 'yards,', 'killing', 'five.', '', 'Java', 'was', 'off', 'Algiers', 'in', 'April', 'where', 'Perry', 'went', 'ashore', 'under', 'a', 'flag', 'of', 'truce', 'and', 'persuaded', 'the', 'Dey', 'of', 'Algiers', 'to', 'honor', 'the', 'treaty', 'which', 'he', 'had', 'signed', 'the', 'previous', 'summer', 'but', 'had', 'been', 'ignoring.', 'Next', 'she', 'sailed', 'for', 'Tripoli', 'with', 'Constellation,', 'Ontario,', 'and', 'Erie', 'to', 'show', 'the', 'strength', 'and', 'resolve', 'of', 'the', 'United', 'States.', 'Then,', 'after', 'a', 'cruise', 'in', 'the', 'Mediterranean', 'stopping', 'at', 'Syracuse,', 'Messina,', 'Palermo,', 'Tunis,', 'Gibraltar', 'and', 'Naples,', 'the', 'frigate', 'returned', 'to', 'Newport', 'early', 'in', '1817', 'and', 'was', 'laid', 'up', 'at', 'Boston,', 'Massachusetts.', '', 'Java', 'returned', 'to', 'active', 'service', 'in', '1827', 'under', 'Captain', 'William', 'M.', 'Crane', 'for', 'a', 'second', 'deployment', 'in', 'the', 'Mediterranean.', 'There', 'she', 'protected', 'American', 'citizens', 'and', 'commerce', 'and', 'performed', 'diplomatic', 'duties.', 'Toward', 'the', 'end', 'of', 'the', 'cruise', 'she', 'served', 'as', 'flagship', 'of', 'Commodore', 'James', 'Biddle.', '', 'After', 'returning', 'to', 'the', 'United', 'States', 'in', '1831,', 'Java', 'became', 'receiving', 'ship', 'at', 'Norfolk,', 'where', 'she', 'was', 'broken', 'up', 'in', '1842.']\n"
     ]
    }
   ],
   "source": [
    "print(bagOfWordsc)"
   ]
  },
  {
   "cell_type": "code",
   "execution_count": 6,
   "metadata": {
    "colab": {},
    "colab_type": "code",
    "id": "tIxil0vQ7f1o",
    "outputId": "5c0e8a5d-55e4-4e4c-8afc-24b0ec8b3edc"
   },
   "outputs": [
    {
     "data": {
      "text/plain": [
       "643"
      ]
     },
     "execution_count": 6,
     "metadata": {},
     "output_type": "execute_result"
    }
   ],
   "source": [
    "uniqueWords = set(bagOfWordsa).union(set(bagOfWordsf)).union(set(bagOfWordsb)).union(set(bagOfWordsc)).union(set(bagOfWordsd)).union(set(bagOfWordse))\n",
    "len(uniqueWords)"
   ]
  },
  {
   "cell_type": "code",
   "execution_count": 7,
   "metadata": {
    "colab": {},
    "colab_type": "code",
    "id": "KXIGjkwl7f1s"
   },
   "outputs": [],
   "source": [
    "\n",
    "numOfWordsa = dict.fromkeys(uniqueWords, 0)\n",
    "for word in bagOfWordsa:\n",
    "    numOfWordsa[word] += 1\n",
    "\n",
    "numOfWordsb = dict.fromkeys(uniqueWords, 0)\n",
    "for word in bagOfWordsb:\n",
    "    numOfWordsb[word] += 1\n",
    "    \n",
    "numOfWordsc = dict.fromkeys(uniqueWords, 0)\n",
    "for word in bagOfWordsc:\n",
    "    numOfWordsc[word] += 1\n",
    "    \n",
    "numOfWordsd = dict.fromkeys(uniqueWords, 0)\n",
    "for word in bagOfWordsd:\n",
    "    numOfWordsd[word] += 1\n",
    "    \n",
    "numOfWordse = dict.fromkeys(uniqueWords, 0)\n",
    "for word in bagOfWordse:\n",
    "    numOfWordse[word] += 1\n",
    "    \n",
    "numOfWordsf = dict.fromkeys(uniqueWords, 0)\n",
    "for word in bagOfWordsf:\n",
    "    numOfWordsf[word] += 1"
   ]
  },
  {
   "cell_type": "markdown",
   "metadata": {
    "colab_type": "text",
    "id": "RBVqyDFE7f1w"
   },
   "source": [
    "### Function to compute term frequency"
   ]
  },
  {
   "cell_type": "code",
   "execution_count": 8,
   "metadata": {
    "colab": {},
    "colab_type": "code",
    "id": "nk6fKsqx7f1x"
   },
   "outputs": [],
   "source": [
    "def computeTF(wordDict, bagOfWords):\n",
    "    tfDict = {}\n",
    "    bagOfWordsCount = len(bagOfWords)\n",
    "    for word, count in wordDict.items():\n",
    "        tfDict[word] = count / float(bagOfWordsCount)\n",
    "    return tfDict"
   ]
  },
  {
   "cell_type": "code",
   "execution_count": 9,
   "metadata": {
    "colab": {},
    "colab_type": "code",
    "id": "NpxYes2y7f1z"
   },
   "outputs": [],
   "source": [
    "tfA = computeTF(numOfWordsa, bagOfWordsa)\n",
    "tfB = computeTF(numOfWordsb, bagOfWordsb)\n",
    "tfC = computeTF(numOfWordsc, bagOfWordsc)\n",
    "tfD = computeTF(numOfWordsd, bagOfWordsd)\n",
    "tfE = computeTF(numOfWordse, bagOfWordse)\n",
    "tfF = computeTF(numOfWordsf, bagOfWordsf)"
   ]
  },
  {
   "cell_type": "markdown",
   "metadata": {
    "colab_type": "text",
    "id": "oM9wjDvq7f13"
   },
   "source": [
    "### Function to calculate IDF value for each word"
   ]
  },
  {
   "cell_type": "code",
   "execution_count": 10,
   "metadata": {
    "colab": {},
    "colab_type": "code",
    "id": "wAZR3VsQ7f14"
   },
   "outputs": [],
   "source": [
    "def computeIDF(documents):\n",
    "    import math\n",
    "    N = len(documents)\n",
    "    \n",
    "    idfDict = dict.fromkeys(documents[0].keys(), 0)\n",
    "    for document in documents:\n",
    "        for word, val in document.items():\n",
    "            if val > 0:\n",
    "                idfDict[word] += 1\n",
    "    \n",
    "    for word, val in idfDict.items():\n",
    "        idfDict[word] = math.log(N / float(val))\n",
    "    return idfDict"
   ]
  },
  {
   "cell_type": "code",
   "execution_count": 11,
   "metadata": {
    "colab": {},
    "colab_type": "code",
    "id": "LAt0ydxk7f17"
   },
   "outputs": [],
   "source": [
    "idfs = computeIDF([numOfWordsa, numOfWordsb, numOfWordsc,numOfWordsd, numOfWordse, numOfWordsf])"
   ]
  },
  {
   "cell_type": "code",
   "execution_count": 12,
   "metadata": {
    "colab": {},
    "colab_type": "code",
    "id": "-ROP3Hyl7f19"
   },
   "outputs": [],
   "source": [
    "def computeTFIDF(tfBagOfWords, idfs):\n",
    "    tfidf = {}\n",
    "    for word, val in tfBagOfWords.items():\n",
    "        tfidf[word] = val * idfs[word]\n",
    "    return tfidf"
   ]
  },
  {
   "cell_type": "code",
   "execution_count": 13,
   "metadata": {
    "colab": {},
    "colab_type": "code",
    "id": "TwgtGARn7f1_"
   },
   "outputs": [],
   "source": [
    "tfidfA = computeTFIDF(tfA, idfs)\n",
    "tfidfB = computeTFIDF(tfB, idfs)\n",
    "tfidfC = computeTFIDF(tfC, idfs)\n",
    "tfidfD = computeTFIDF(tfD, idfs)\n",
    "tfidfE = computeTFIDF(tfE, idfs)\n",
    "tfidfF = computeTFIDF(tfF, idfs)\n",
    "df = pd.DataFrame([tfidfA, tfidfB, tfidfC,tfidfD,tfidfE,tfidfF])"
   ]
  },
  {
   "cell_type": "code",
   "execution_count": 14,
   "metadata": {
    "colab": {},
    "colab_type": "code",
    "id": "vyy9zwP37f2B",
    "outputId": "768cef95-4877-4808-a416-03b48c99fa25"
   },
   "outputs": [
    {
     "data": {
      "text/html": [
       "<div>\n",
       "<style scoped>\n",
       "    .dataframe tbody tr th:only-of-type {\n",
       "        vertical-align: middle;\n",
       "    }\n",
       "\n",
       "    .dataframe tbody tr th {\n",
       "        vertical-align: top;\n",
       "    }\n",
       "\n",
       "    .dataframe thead th {\n",
       "        text-align: right;\n",
       "    }\n",
       "</style>\n",
       "<table border=\"1\" class=\"dataframe\">\n",
       "  <thead>\n",
       "    <tr style=\"text-align: right;\">\n",
       "      <th></th>\n",
       "      <th></th>\n",
       "      <th>captured</th>\n",
       "      <th>syrupy</th>\n",
       "      <th>city,</th>\n",
       "      <th>ordered</th>\n",
       "      <th>war,</th>\n",
       "      <th>early</th>\n",
       "      <th>body</th>\n",
       "      <th>Tskhinvali,</th>\n",
       "      <th>once,</th>\n",
       "      <th>...</th>\n",
       "      <th>offensive.</th>\n",
       "      <th>(which</th>\n",
       "      <th>wet</th>\n",
       "      <th>active</th>\n",
       "      <th>9</th>\n",
       "      <th>face</th>\n",
       "      <th>forces</th>\n",
       "      <th>sacks,</th>\n",
       "      <th>Pancur),</th>\n",
       "      <th>libraries</th>\n",
       "    </tr>\n",
       "  </thead>\n",
       "  <tbody>\n",
       "    <tr>\n",
       "      <td>0</td>\n",
       "      <td>0.004954</td>\n",
       "      <td>0.000000</td>\n",
       "      <td>0.000000</td>\n",
       "      <td>0.009738</td>\n",
       "      <td>0.000000</td>\n",
       "      <td>0.000000</td>\n",
       "      <td>0.000000</td>\n",
       "      <td>0.000000</td>\n",
       "      <td>0.000000</td>\n",
       "      <td>0.000000</td>\n",
       "      <td>...</td>\n",
       "      <td>0.000000</td>\n",
       "      <td>0.000000</td>\n",
       "      <td>0.000000</td>\n",
       "      <td>0.000000</td>\n",
       "      <td>0.000000</td>\n",
       "      <td>0.000000</td>\n",
       "      <td>0.000000</td>\n",
       "      <td>0.000000</td>\n",
       "      <td>0.000000</td>\n",
       "      <td>0.000000</td>\n",
       "    </tr>\n",
       "    <tr>\n",
       "      <td>1</td>\n",
       "      <td>0.002509</td>\n",
       "      <td>0.000000</td>\n",
       "      <td>0.000000</td>\n",
       "      <td>0.000000</td>\n",
       "      <td>0.000000</td>\n",
       "      <td>0.016438</td>\n",
       "      <td>0.000000</td>\n",
       "      <td>0.000000</td>\n",
       "      <td>0.016438</td>\n",
       "      <td>0.000000</td>\n",
       "      <td>...</td>\n",
       "      <td>0.008219</td>\n",
       "      <td>0.000000</td>\n",
       "      <td>0.000000</td>\n",
       "      <td>0.000000</td>\n",
       "      <td>0.000000</td>\n",
       "      <td>0.000000</td>\n",
       "      <td>0.008219</td>\n",
       "      <td>0.000000</td>\n",
       "      <td>0.000000</td>\n",
       "      <td>0.000000</td>\n",
       "    </tr>\n",
       "    <tr>\n",
       "      <td>2</td>\n",
       "      <td>0.002272</td>\n",
       "      <td>0.005582</td>\n",
       "      <td>0.000000</td>\n",
       "      <td>0.000000</td>\n",
       "      <td>0.005582</td>\n",
       "      <td>0.000000</td>\n",
       "      <td>0.005582</td>\n",
       "      <td>0.000000</td>\n",
       "      <td>0.000000</td>\n",
       "      <td>0.000000</td>\n",
       "      <td>...</td>\n",
       "      <td>0.000000</td>\n",
       "      <td>0.000000</td>\n",
       "      <td>0.000000</td>\n",
       "      <td>0.005582</td>\n",
       "      <td>0.000000</td>\n",
       "      <td>0.005582</td>\n",
       "      <td>0.000000</td>\n",
       "      <td>0.000000</td>\n",
       "      <td>0.000000</td>\n",
       "      <td>0.000000</td>\n",
       "    </tr>\n",
       "    <tr>\n",
       "      <td>3</td>\n",
       "      <td>0.003364</td>\n",
       "      <td>0.000000</td>\n",
       "      <td>0.006612</td>\n",
       "      <td>0.000000</td>\n",
       "      <td>0.000000</td>\n",
       "      <td>0.000000</td>\n",
       "      <td>0.000000</td>\n",
       "      <td>0.006612</td>\n",
       "      <td>0.000000</td>\n",
       "      <td>0.000000</td>\n",
       "      <td>...</td>\n",
       "      <td>0.000000</td>\n",
       "      <td>0.000000</td>\n",
       "      <td>0.006612</td>\n",
       "      <td>0.000000</td>\n",
       "      <td>0.000000</td>\n",
       "      <td>0.000000</td>\n",
       "      <td>0.000000</td>\n",
       "      <td>0.006612</td>\n",
       "      <td>0.006612</td>\n",
       "      <td>0.000000</td>\n",
       "    </tr>\n",
       "    <tr>\n",
       "      <td>4</td>\n",
       "      <td>0.001599</td>\n",
       "      <td>0.000000</td>\n",
       "      <td>0.000000</td>\n",
       "      <td>0.000000</td>\n",
       "      <td>0.000000</td>\n",
       "      <td>0.000000</td>\n",
       "      <td>0.000000</td>\n",
       "      <td>0.000000</td>\n",
       "      <td>0.000000</td>\n",
       "      <td>0.007859</td>\n",
       "      <td>...</td>\n",
       "      <td>0.000000</td>\n",
       "      <td>0.007859</td>\n",
       "      <td>0.000000</td>\n",
       "      <td>0.000000</td>\n",
       "      <td>0.007859</td>\n",
       "      <td>0.000000</td>\n",
       "      <td>0.000000</td>\n",
       "      <td>0.000000</td>\n",
       "      <td>0.000000</td>\n",
       "      <td>0.007859</td>\n",
       "    </tr>\n",
       "    <tr>\n",
       "      <td>5</td>\n",
       "      <td>0.000000</td>\n",
       "      <td>0.000000</td>\n",
       "      <td>0.000000</td>\n",
       "      <td>0.000000</td>\n",
       "      <td>0.000000</td>\n",
       "      <td>0.000000</td>\n",
       "      <td>0.000000</td>\n",
       "      <td>0.000000</td>\n",
       "      <td>0.000000</td>\n",
       "      <td>0.000000</td>\n",
       "      <td>...</td>\n",
       "      <td>0.000000</td>\n",
       "      <td>0.000000</td>\n",
       "      <td>0.000000</td>\n",
       "      <td>0.000000</td>\n",
       "      <td>0.000000</td>\n",
       "      <td>0.000000</td>\n",
       "      <td>0.000000</td>\n",
       "      <td>0.000000</td>\n",
       "      <td>0.000000</td>\n",
       "      <td>0.000000</td>\n",
       "    </tr>\n",
       "  </tbody>\n",
       "</table>\n",
       "<p>6 rows × 643 columns</p>\n",
       "</div>"
      ],
      "text/plain": [
       "             captured    syrupy     city,   ordered      war,     early  \\\n",
       "0  0.004954  0.000000  0.000000  0.009738  0.000000  0.000000  0.000000   \n",
       "1  0.002509  0.000000  0.000000  0.000000  0.000000  0.016438  0.000000   \n",
       "2  0.002272  0.005582  0.000000  0.000000  0.005582  0.000000  0.005582   \n",
       "3  0.003364  0.000000  0.006612  0.000000  0.000000  0.000000  0.000000   \n",
       "4  0.001599  0.000000  0.000000  0.000000  0.000000  0.000000  0.000000   \n",
       "5  0.000000  0.000000  0.000000  0.000000  0.000000  0.000000  0.000000   \n",
       "\n",
       "       body  Tskhinvali,     once,  ...  offensive.    (which       wet  \\\n",
       "0  0.000000     0.000000  0.000000  ...    0.000000  0.000000  0.000000   \n",
       "1  0.000000     0.016438  0.000000  ...    0.008219  0.000000  0.000000   \n",
       "2  0.000000     0.000000  0.000000  ...    0.000000  0.000000  0.000000   \n",
       "3  0.006612     0.000000  0.000000  ...    0.000000  0.000000  0.006612   \n",
       "4  0.000000     0.000000  0.007859  ...    0.000000  0.007859  0.000000   \n",
       "5  0.000000     0.000000  0.000000  ...    0.000000  0.000000  0.000000   \n",
       "\n",
       "     active         9      face    forces    sacks,  Pancur),  libraries  \n",
       "0  0.000000  0.000000  0.000000  0.000000  0.000000  0.000000   0.000000  \n",
       "1  0.000000  0.000000  0.000000  0.008219  0.000000  0.000000   0.000000  \n",
       "2  0.005582  0.000000  0.005582  0.000000  0.000000  0.000000   0.000000  \n",
       "3  0.000000  0.000000  0.000000  0.000000  0.006612  0.006612   0.000000  \n",
       "4  0.000000  0.007859  0.000000  0.000000  0.000000  0.000000   0.007859  \n",
       "5  0.000000  0.000000  0.000000  0.000000  0.000000  0.000000   0.000000  \n",
       "\n",
       "[6 rows x 643 columns]"
      ]
     },
     "execution_count": 14,
     "metadata": {},
     "output_type": "execute_result"
    }
   ],
   "source": [
    "df"
   ]
  },
  {
   "cell_type": "code",
   "execution_count": 15,
   "metadata": {
    "colab": {},
    "colab_type": "code",
    "id": "ibreob407f2E",
    "outputId": "8858abd3-757e-4e49-94b1-ae0e1e2ba5a0"
   },
   "outputs": [
    {
     "data": {
      "text/html": [
       "<div>\n",
       "<style scoped>\n",
       "    .dataframe tbody tr th:only-of-type {\n",
       "        vertical-align: middle;\n",
       "    }\n",
       "\n",
       "    .dataframe tbody tr th {\n",
       "        vertical-align: top;\n",
       "    }\n",
       "\n",
       "    .dataframe thead th {\n",
       "        text-align: right;\n",
       "    }\n",
       "</style>\n",
       "<table border=\"1\" class=\"dataframe\">\n",
       "  <thead>\n",
       "    <tr style=\"text-align: right;\">\n",
       "      <th></th>\n",
       "      <th></th>\n",
       "      <th>captured</th>\n",
       "      <th>syrupy</th>\n",
       "      <th>city,</th>\n",
       "      <th>ordered</th>\n",
       "      <th>war,</th>\n",
       "      <th>early</th>\n",
       "      <th>body</th>\n",
       "      <th>Tskhinvali,</th>\n",
       "      <th>once,</th>\n",
       "      <th>...</th>\n",
       "      <th>offensive.</th>\n",
       "      <th>(which</th>\n",
       "      <th>wet</th>\n",
       "      <th>active</th>\n",
       "      <th>9</th>\n",
       "      <th>face</th>\n",
       "      <th>forces</th>\n",
       "      <th>sacks,</th>\n",
       "      <th>Pancur),</th>\n",
       "      <th>libraries</th>\n",
       "    </tr>\n",
       "  </thead>\n",
       "  <tbody>\n",
       "    <tr>\n",
       "      <td>5</td>\n",
       "      <td>0.0</td>\n",
       "      <td>0.0</td>\n",
       "      <td>0.0</td>\n",
       "      <td>0.0</td>\n",
       "      <td>0.0</td>\n",
       "      <td>0.0</td>\n",
       "      <td>0.0</td>\n",
       "      <td>0.0</td>\n",
       "      <td>0.0</td>\n",
       "      <td>0.0</td>\n",
       "      <td>...</td>\n",
       "      <td>0.0</td>\n",
       "      <td>0.0</td>\n",
       "      <td>0.0</td>\n",
       "      <td>0.0</td>\n",
       "      <td>0.0</td>\n",
       "      <td>0.0</td>\n",
       "      <td>0.0</td>\n",
       "      <td>0.0</td>\n",
       "      <td>0.0</td>\n",
       "      <td>0.0</td>\n",
       "    </tr>\n",
       "  </tbody>\n",
       "</table>\n",
       "<p>1 rows × 643 columns</p>\n",
       "</div>"
      ],
      "text/plain": [
       "        captured  syrupy  city,  ordered  war,  early  body  Tskhinvali,  \\\n",
       "5  0.0       0.0     0.0    0.0      0.0   0.0    0.0   0.0          0.0   \n",
       "\n",
       "   once,  ...  offensive.  (which  wet  active    9  face  forces  sacks,  \\\n",
       "5    0.0  ...         0.0     0.0  0.0     0.0  0.0   0.0     0.0     0.0   \n",
       "\n",
       "   Pancur),  libraries  \n",
       "5       0.0        0.0  \n",
       "\n",
       "[1 rows x 643 columns]"
      ]
     },
     "execution_count": 15,
     "metadata": {},
     "output_type": "execute_result"
    }
   ],
   "source": [
    "type(df.iloc[[5]])\n",
    "df.iloc[[5]]"
   ]
  },
  {
   "cell_type": "code",
   "execution_count": 16,
   "metadata": {
    "colab": {},
    "colab_type": "code",
    "id": "MTuvXdJN7f2H"
   },
   "outputs": [],
   "source": [
    "import scipy\n",
    "new_df = scipy.sparse.csr_matrix(df.values)\n",
    "\n",
    "res = cosine_similarity(new_df,new_df[5])"
   ]
  },
  {
   "cell_type": "code",
   "execution_count": 17,
   "metadata": {
    "colab": {},
    "colab_type": "code",
    "id": "NzbaZJG-7f2J",
    "outputId": "5b47f4de-fb54-4a32-f7d5-3e6c4ee9314f"
   },
   "outputs": [
    {
     "data": {
      "text/plain": [
       "array([[0.        ],\n",
       "       [0.        ],\n",
       "       [0.        ],\n",
       "       [0.12265387],\n",
       "       [0.        ],\n",
       "       [1.        ]])"
      ]
     },
     "execution_count": 17,
     "metadata": {},
     "output_type": "execute_result"
    }
   ],
   "source": [
    "res"
   ]
  },
  {
   "cell_type": "markdown",
   "metadata": {
    "colab_type": "text",
    "id": "_HIsESMR7rea"
   },
   "source": [
    "References:\n",
    "https://machinelearningmastery.com/how-to-generate-random-numbers-in-python/\n",
    "https://towardsdatascience.com/natural-language-processing-feature-engineering-using-tf-idf-e8b9d00e7e76"
   ]
  },
  {
   "cell_type": "code",
   "execution_count": 0,
   "metadata": {
    "colab": {},
    "colab_type": "code",
    "id": "svEvhz0-7f2L"
   },
   "outputs": [],
   "source": []
  },
  {
   "cell_type": "code",
   "execution_count": 0,
   "metadata": {
    "colab": {},
    "colab_type": "code",
    "id": "gvn2T_J_7f2N"
   },
   "outputs": [],
   "source": []
  }
 ],
 "metadata": {
  "colab": {
   "name": "Q4_1.ipynb",
   "provenance": []
  },
  "kernelspec": {
   "display_name": "Python 3",
   "language": "python",
   "name": "python3"
  },
  "language_info": {
   "codemirror_mode": {
    "name": "ipython",
    "version": 3
   },
   "file_extension": ".py",
   "mimetype": "text/x-python",
   "name": "python",
   "nbconvert_exporter": "python",
   "pygments_lexer": "ipython3",
   "version": "3.7.4"
  }
 },
 "nbformat": 4,
 "nbformat_minor": 1
}
